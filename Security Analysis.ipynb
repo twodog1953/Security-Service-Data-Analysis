{
 "cells": [
  {
   "cell_type": "markdown",
   "id": "91a65b73-8b7c-466a-b28a-db6d0dfe3b74",
   "metadata": {},
   "source": [
    "# A Sample Data Analysis and Visualization for Operations of Security Shifts"
   ]
  },
  {
   "cell_type": "markdown",
   "id": "9cfbe22c-cbe2-49aa-8a6f-76bf79a46934",
   "metadata": {},
   "source": [
    "## Import needed modules and data file\n",
    "NOTE: ALL SENSITIVE INFO (SUCH AS GUARD'S NAME) HAVE BEEN REMOVED"
   ]
  },
  {
   "cell_type": "code",
   "execution_count": 19,
   "id": "5d4887de-0442-463a-9995-3e7cb1e3d127",
   "metadata": {},
   "outputs": [],
   "source": [
    "import pandas as pd\n",
    "import numpy as np"
   ]
  },
  {
   "cell_type": "code",
   "execution_count": 20,
   "id": "2ecb766b-6c7e-4941-8022-42156f0ef0c5",
   "metadata": {},
   "outputs": [],
   "source": [
    "data = pd.read_excel('data_11-12.xlsx')\n",
    "# filter out all LAPD service ONLY for now\n",
    "lapd_data = data[(data[\"JobDescription\"].str.contains(\"LAPD\", case=False)) & (~data[\"JobDescription\"].str.contains(\"PTO\", case=False))]"
   ]
  },
  {
   "cell_type": "markdown",
   "id": "02e2ba6e-fbbd-49e7-8ce0-22455104e865",
   "metadata": {},
   "source": [
    "## Data Exploration and Cleaning"
   ]
  },
  {
   "cell_type": "markdown",
   "id": "2fd74247-e0c6-4b30-bc80-7f22c2f48893",
   "metadata": {},
   "source": [
    "### Get a very general Overview of the entire dataframe"
   ]
  },
  {
   "cell_type": "code",
   "execution_count": 23,
   "id": "ec9895bd-843f-4447-aad3-8cf913686d53",
   "metadata": {},
   "outputs": [
    {
     "name": "stdout",
     "output_type": "stream",
     "text": [
      "      JobNumber        JobDescription PostDescription  ShiftID  RecordNumber  \\\n",
      "5921        186  LAPD - BOYLE HEIGHTS         Unarmed        1             1   \n",
      "5922        186  LAPD - BOYLE HEIGHTS         Unarmed        1             1   \n",
      "5923        186  LAPD - BOYLE HEIGHTS         Unarmed        1             1   \n",
      "5924        186  LAPD - BOYLE HEIGHTS         Unarmed        1             1   \n",
      "5925        186  LAPD - BOYLE HEIGHTS         Unarmed        1             1   \n",
      "\n",
      "     ShiftStartTime ShiftEndTime  DayNo   WorkDate  EmployeeNumber  ...  \\\n",
      "5921          07:30        17:30      6  11/1/2024           52096  ...   \n",
      "5922          07:30        18:30      2  11/4/2024           53511  ...   \n",
      "5923          07:30        18:30      2  11/4/2024           53511  ...   \n",
      "5924          07:30        18:30      3  11/5/2024           53511  ...   \n",
      "5925          07:30        18:30      3  11/5/2024           53511  ...   \n",
      "\n",
      "     WeeklyContractedOTHours PrimaryJobDiff CustomField  AbsenceFlag  \\\n",
      "5921                     NaN          False         NaN            0   \n",
      "5922                     NaN          False         NaN            0   \n",
      "5923                     NaN          False         NaN            0   \n",
      "5924                     NaN          False         NaN            0   \n",
      "5925                     NaN          False         NaN            0   \n",
      "\n",
      "      SpecialPayRate SpecialBillRate TeamTime  ReconciliationStatus  \\\n",
      "5921           False           False     True             Automatic   \n",
      "5922           False           False     True           Overwritten   \n",
      "5923           False           False     True           Overwritten   \n",
      "5924           False           False     True           Overwritten   \n",
      "5925           False           False     True           Overwritten   \n",
      "\n",
      "        InStatus   OutStatus  \n",
      "5921      Mobile  WT w/Punch  \n",
      "5922  WT w/Punch      Mobile  \n",
      "5923  WT w/Punch      Mobile  \n",
      "5924      Mobile  WT w/Punch  \n",
      "5925      Mobile  WT w/Punch  \n",
      "\n",
      "[5 rows x 54 columns]\n"
     ]
    }
   ],
   "source": [
    "print(lapd_data.head())"
   ]
  },
  {
   "cell_type": "code",
   "execution_count": 24,
   "id": "8401d57e-a5e9-4c84-bb0d-27e955542cb3",
   "metadata": {},
   "outputs": [
    {
     "name": "stdout",
     "output_type": "stream",
     "text": [
      "         JobNumber      ShiftID  RecordNumber        DayNo  EmployeeNumber  \\\n",
      "count  1764.000000  1764.000000   1764.000000  1764.000000     1764.000000   \n",
      "mean    221.620748     1.715986      1.001701     4.028912    49267.650227   \n",
      "std      57.381031     0.996508      0.041216     1.643759    12081.187308   \n",
      "min     186.000000     1.000000      1.000000     1.000000     3000.000000   \n",
      "25%     189.000000     1.000000      1.000000     3.000000    53385.250000   \n",
      "50%     192.000000     1.000000      1.000000     4.000000    54131.000000   \n",
      "75%     238.000000     2.000000      1.000000     5.000000    54745.000000   \n",
      "max     577.000000     4.000000      2.000000     7.000000    55217.000000   \n",
      "\n",
      "             Lunch        Hours    PaidLunch    PaidHours  PayVariance  ...  \\\n",
      "count  1764.000000  1764.000000  1764.000000  1764.000000  1764.000000  ...   \n",
      "mean      0.010771     6.024960     0.013447     6.020828    -0.004416  ...   \n",
      "std       0.072612     3.092174     0.083072     3.094206     0.146710  ...   \n",
      "min       0.000000     0.000000     0.000000     0.000000    -2.170000  ...   \n",
      "25%       0.000000     3.500000     0.000000     3.500000     0.000000  ...   \n",
      "50%       0.000000     8.000000     0.000000     7.970000     0.000000  ...   \n",
      "75%       0.000000     8.000000     0.000000     8.030000     0.030000  ...   \n",
      "max       0.500000    13.000000     1.000000    13.000000     0.800000  ...   \n",
      "\n",
      "       BillableDollars  BillableOTDollars  BillableOTHours  AddlDescription  \\\n",
      "count      1764.000000             1764.0           1764.0              0.0   \n",
      "mean        193.532664                0.0              0.0              NaN   \n",
      "std          95.300977                0.0              0.0              NaN   \n",
      "min           0.000000                0.0              0.0              NaN   \n",
      "25%         122.600000                0.0              0.0              NaN   \n",
      "50%         245.200000                0.0              0.0              NaN   \n",
      "75%         245.200000                0.0              0.0              NaN   \n",
      "max         409.680000                0.0              0.0              NaN   \n",
      "\n",
      "       TotalRegHours  WeeklyContractedRegHours  TotalOTHours  \\\n",
      "count    1764.000000                       0.0        1764.0   \n",
      "mean     1046.936264                       NaN           0.0   \n",
      "std      1012.422887                       NaN           0.0   \n",
      "min         3.670000                       NaN           0.0   \n",
      "25%       337.600000                       NaN           0.0   \n",
      "50%       628.110000                       NaN           0.0   \n",
      "75%       866.500000                       NaN           0.0   \n",
      "max      2863.940000                       NaN           0.0   \n",
      "\n",
      "       WeeklyContractedOTHours  CustomField  AbsenceFlag  \n",
      "count                      0.0          0.0  1764.000000  \n",
      "mean                       NaN          NaN     0.024943  \n",
      "std                        NaN          NaN     0.155997  \n",
      "min                        NaN          NaN     0.000000  \n",
      "25%                        NaN          NaN     0.000000  \n",
      "50%                        NaN          NaN     0.000000  \n",
      "75%                        NaN          NaN     0.000000  \n",
      "max                        NaN          NaN     1.000000  \n",
      "\n",
      "[8 rows x 32 columns]\n"
     ]
    }
   ],
   "source": [
    "print(lapd_data.describe())"
   ]
  }
 ],
 "metadata": {
  "kernelspec": {
   "display_name": "Python [conda env:base] *",
   "language": "python",
   "name": "conda-base-py"
  },
  "language_info": {
   "codemirror_mode": {
    "name": "ipython",
    "version": 3
   },
   "file_extension": ".py",
   "mimetype": "text/x-python",
   "name": "python",
   "nbconvert_exporter": "python",
   "pygments_lexer": "ipython3",
   "version": "3.12.7"
  }
 },
 "nbformat": 4,
 "nbformat_minor": 5
}
